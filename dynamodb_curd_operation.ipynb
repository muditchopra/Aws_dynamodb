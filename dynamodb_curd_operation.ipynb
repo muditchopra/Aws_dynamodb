{
 "cells": [
  {
   "cell_type": "code",
   "execution_count": 1,
   "metadata": {},
   "outputs": [],
   "source": [
    "import boto3\n",
    "from botocore.exceptions import ClientError\n",
    "import json\n",
    "from decimal import Decimal\n",
    "from pprint import pprint"
   ]
  },
  {
   "cell_type": "raw",
   "metadata": {},
   "source": [
    "# tableName = 'Device_data'\n",
    "# data object-->\n",
    "# {\n",
    "#     \"device_id\": \"10001\",\n",
    "#     \"datacount\": 1,\n",
    "#     \"info\": {\n",
    "#       \"info_timestamp\": \"1612519200\",\n",
    "#       \"temperature1\": 37.2,\n",
    "#       \"temperature2\": 21.31,\n",
    "#       \"temperature3\": 25.6,\n",
    "#       \"temperature4\": 22.96,\n",
    "#       \"temperature5\": 24.69\n",
    "#     }"
   ]
  },
  {
   "cell_type": "code",
   "execution_count": 2,
   "metadata": {},
   "outputs": [],
   "source": [
    "def create_table(self,table_name,dynamodb=None):\n",
    "    try:\n",
    "        self.__table__ = dynamodb.create_table(\n",
    "            TableName = table_name,\n",
    "            KeySchema = [\n",
    "                {\n",
    "                    'AttributeName' : 'device_id',\n",
    "                    'KeyType' : 'HASH'\n",
    "                },\n",
    "                {\n",
    "                    'AttributeName' : 'datacount',\n",
    "                    'KeyType' : 'RANGE'\n",
    "                }\n",
    "            ],\n",
    "            AttributeDefinitions = [\n",
    "                {\n",
    "                    'AttributeName' : 'device_id',\n",
    "                    'AttributeType' : 'S'\n",
    "                },\n",
    "                {\n",
    "                    'AttributeName' : 'datacount',\n",
    "                    'AttributeType' : 'N'\n",
    "                }\n",
    "            ],\n",
    "            ProvisionedThroughput={\n",
    "                'ReadCapacityUnits': 10,\n",
    "                'WriteCapacityUnits': 10\n",
    "            }\n",
    "        )\n",
    "    except ClientError as e:\n",
    "        print(e.response['Error']['Message'])\n",
    "    return device_table"
   ]
  },
  {
   "cell_type": "code",
   "execution_count": 3,
   "metadata": {},
   "outputs": [],
   "source": [
    "class AwsDynamodb:\n",
    "    def __init__(self,table_name,dynamodb=None):\n",
    "        if not dynamodb:\n",
    "            dynamodb = boto3.resource('dynamodb')\n",
    "            \n",
    "        self.__table__= dynamodb.Table(table_name)\n",
    "        \n",
    "        \n",
    "    def get_data(self,device_id,datacount):\n",
    "        self.device_id = device_id\n",
    "        self.datacount = datacount\n",
    "        try:\n",
    "            response = self.__table__.get_item(Key={'device_id': self.device_id, 'datacount': self.datacount})\n",
    "        except ClientError as e:\n",
    "            print(e.response['Error']['Message'])\n",
    "        else:\n",
    "            return response['Item']\n",
    "        \n",
    "    def load_data_with_json(self,json_data,dynamodb=None):\n",
    "        try:\n",
    "            for device in Devices:\n",
    "                device_table.put_item(Item = json_data)\n",
    "                print(\"loading :\", device['device_id'],device['datacount'])\n",
    "        except ClientError as e:\n",
    "            print(e.response['Error']['Message'])\n",
    "            \n",
    "    def load_data(self,key):\n",
    "        try:\n",
    "            response = self.__table__.put_item(Item={**key})\n",
    "        except ClientError as e:\n",
    "            print(e.response['Error']['Message'])\n",
    "        else:\n",
    "            return response\n",
    "        \n",
    "    def update_data(self,key,update_exp,exp_attribute,return_value):\n",
    "        try:\n",
    "            response = self.__table__.update_item(\n",
    "                Key={**key},\n",
    "                UpdateExpression=update_exp,\n",
    "                ExpressionAttributeValues={**exp_attribute},\n",
    "                ReturnValues=return_value)\n",
    "            \n",
    "        except ClientError as e:\n",
    "            print(e.response['Error']['Message'])\n",
    "        else:\n",
    "            return response\n",
    "        \n",
    "    def delete_data(self,key,cond_exp,exp_attribute):\n",
    "        try:\n",
    "            response = self.__table__.delete_item(\n",
    "                Key={**key},\n",
    "                ConditionExpression=cond_exp,\n",
    "                ExpressionAttributeValues={**exp_attribute})\n",
    "        except ClientError as e:\n",
    "            if e.response['Error']['Code']=='ConditionalCheckFailedException':\n",
    "                print(e.response['Error']['Message'])\n",
    "            else:\n",
    "                raise\n",
    "        else:\n",
    "            return response"
   ]
  },
  {
   "cell_type": "code",
   "execution_count": null,
   "metadata": {},
   "outputs": [],
   "source": [
    "if __name__ == '__main__':\n",
    "\n",
    "    # create table \n",
    "    device_table = create_table()\n",
    "    print(\"table status:\", device_table.table_status)"
   ]
  },
  {
   "cell_type": "code",
   "execution_count": null,
   "metadata": {},
   "outputs": [],
   "source": [
    "#create object of class pass tableName as parameter\n",
    "devices = AwsDynamodb('Device_Data')"
   ]
  },
  {
   "cell_type": "code",
   "execution_count": null,
   "metadata": {},
   "outputs": [],
   "source": [
    "if __name__ == '__main__':\n",
    "    #load data with json file\n",
    "    with open(\"device.json\") as json_data:\n",
    "        device_list = json.load(json_data,parse_float=Decimal)\n",
    "    load_data(device_list)"
   ]
  },
  {
   "cell_type": "code",
   "execution_count": null,
   "metadata": {},
   "outputs": [],
   "source": [
    "if __name__ == '__main__':\n",
    "    #load data manually\n",
    "    device_id=\"10002\"\n",
    "    datacount=3\n",
    "    timestamp=\"1612522800\"\n",
    "    temperature1= \"23.74\"\n",
    "    temperature2= \"32.56\"\n",
    "    temperature3= \"12.43\"\n",
    "    temperature4= \"44.74\"\n",
    "    temperature5= \"12.74\"\n",
    "\n",
    "    receive_response = devices.load_data({\n",
    "                        'device_id': device_id,\n",
    "                        'datacount': datacount,\n",
    "                        'info': {\n",
    "                            'info_timestamp': timestamp,\n",
    "                            'temperature1': temperature1,\n",
    "                            'temperature2': temperature2,\n",
    "                            'temperature3': temperature3,\n",
    "                            'temperature4': temperature4,\n",
    "                            'temperature5': temperature5\n",
    "                }})\n",
    "    pprint(receive_response)"
   ]
  },
  {
   "cell_type": "code",
   "execution_count": null,
   "metadata": {},
   "outputs": [],
   "source": [
    "if __name__ == '__main__':\n",
    "    #get data with primary key\n",
    "    receive_data = devices.get_data('10002',2)\n",
    "    pprint(receive_data)"
   ]
  },
  {
   "cell_type": "code",
   "execution_count": null,
   "metadata": {},
   "outputs": [],
   "source": [
    "if __name__ == '__main__':\n",
    "    #update data \n",
    "    key={'device_id':'10001','datacount':1}\n",
    "    update_exp='set info.info_timestamp=time,info.temperature1=:t1,info.temperature2=:t2, info.temperature3=:t3, info.temperature4=:t4, info.temperature5=:t5'\n",
    "    exp_attribute = {\n",
    "        'time':\"1612522800\",\n",
    "        ':t1': \"50.1\",\n",
    "        ':t2': \"51.1\",\n",
    "        ':t3': \"52.1\",\n",
    "        ':t4': \"53.1\",\n",
    "        ':t5': \"54.1\"\n",
    "    }\n",
    "    return_value = \"UPDATED_NEW\"\n",
    "    update_response = devices.update_data(key,update_exp,exp_attribute,return_value)\n",
    "    \n",
    "    pprint(update_response['Attributes'])"
   ]
  },
  {
   "cell_type": "code",
   "execution_count": null,
   "metadata": {},
   "outputs": [],
   "source": [
    "if __name__ == '__main__':\n",
    "    #delete data \n",
    "    key={'device_id':'10001','datacount':1}\n",
    "    cond_exp = 'info.info_timestamp <= :value'\n",
    "    exp_attribute = {':value':'1612522800'}\n",
    "\n",
    "    delete_response = devices.delete_data(key,cond_exp,exp_attribute)\n",
    "    pprint(delete_response)"
   ]
  },
  {
   "cell_type": "code",
   "execution_count": null,
   "metadata": {},
   "outputs": [],
   "source": []
  }
 ],
 "metadata": {
  "kernelspec": {
   "display_name": "Python 3",
   "language": "python",
   "name": "python3"
  },
  "language_info": {
   "codemirror_mode": {
    "name": "ipython",
    "version": 3
   },
   "file_extension": ".py",
   "mimetype": "text/x-python",
   "name": "python",
   "nbconvert_exporter": "python",
   "pygments_lexer": "ipython3",
   "version": "3.7.4"
  }
 },
 "nbformat": 4,
 "nbformat_minor": 2
}
